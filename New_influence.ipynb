{
 "cells": [
  {
   "cell_type": "code",
   "execution_count": null,
   "metadata": {},
   "outputs": [],
   "source": [
    "import pandas as pd"
   ]
  },
  {
   "cell_type": "code",
   "execution_count": null,
   "metadata": {},
   "outputs": [],
   "source": [
    "df = pd.read_csv('mo503sampledata.csv', engine='python', skiprows = [0])"
   ]
  },
  {
   "cell_type": "code",
   "execution_count": null,
   "metadata": {},
   "outputs": [],
   "source": [
    "rename_df = pd.read_csv('mo503rename.csv', engine = 'python')"
   ]
  },
  {
   "cell_type": "code",
   "execution_count": null,
   "metadata": {},
   "outputs": [],
   "source": [
    "#Make rename dict and rename relevant columns\n",
    "rename_dict = dict(zip(rename_df[\"Variable\"], rename_df[\"Rename\"]))\n",
    "df = df.rename(columns = rename_dict)"
   ]
  },
  {
   "cell_type": "code",
   "execution_count": null,
   "metadata": {},
   "outputs": [],
   "source": [
    "#Subset df by requested columns\n",
    "rename_list = list(rename_df[\"Rename\"])\n",
    "cols_tokeep = [\"Name\", \"EmailAddress\", \"MO503Section\", \"UMID\", \"Uniqname\"]\n",
    "cols_tokeep.extend(rename_list)\n",
    "df = df[cols_tokeep]"
   ]
  },
  {
   "cell_type": "code",
   "execution_count": null,
   "metadata": {},
   "outputs": [],
   "source": [
    "stats_df = df.groupby('MO503Section').mean().round(1)"
   ]
  },
  {
   "cell_type": "code",
   "execution_count": null,
   "metadata": {},
   "outputs": [],
   "source": [
    "#Iterate through rename list, make dict, and then map to new column\n",
    "for col in rename_list:\n",
    "    map_dict = dict(zip(stats_df.index, stats_df[col]))\n",
    "    new_col = col[:-1] + \"2\"\n",
    "    df[new_col] = df['MO503Section'].map(map_dict)"
   ]
  },
  {
   "cell_type": "code",
   "execution_count": null,
   "metadata": {},
   "outputs": [],
   "source": [
    "#Find mean across dataset\n",
    "stats_3 = df[rename_list].mean().round(1)"
   ]
  },
  {
   "cell_type": "code",
   "execution_count": null,
   "metadata": {},
   "outputs": [],
   "source": [
    "#Insert new columns\n",
    "for col in rename_list:\n",
    "    new_col = col[:-1] + \"3\"\n",
    "    df[new_col] = stats_3[col]"
   ]
  },
  {
   "cell_type": "code",
   "execution_count": null,
   "metadata": {},
   "outputs": [],
   "source": [
    "#Round the original rename columns after making dict of requested decimal places\n",
    "decimal_dict = dict(zip(rename_df[\"Rename\"], rename_df[\"Decimals\"]))\n",
    "for col in rename_list:\n",
    "    df[col] = df[col].round(decimal_dict[col])"
   ]
  }
 ],
 "metadata": {
  "kernelspec": {
   "display_name": "Python 3",
   "language": "python",
   "name": "python3"
  },
  "language_info": {
   "codemirror_mode": {
    "name": "ipython",
    "version": 3
   },
   "file_extension": ".py",
   "mimetype": "text/x-python",
   "name": "python",
   "nbconvert_exporter": "python",
   "pygments_lexer": "ipython3",
   "version": "3.7.1"
  }
 },
 "nbformat": 4,
 "nbformat_minor": 4
}
